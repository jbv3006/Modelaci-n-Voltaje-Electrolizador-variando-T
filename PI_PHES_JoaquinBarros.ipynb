{
 "cells": [
  {
   "cell_type": "markdown",
   "id": "01eca721",
   "metadata": {},
   "source": [
    "# Modelación Electrólisis del agua con PEM "
   ]
  },
  {
   "cell_type": "markdown",
   "id": "dc1b7e47",
   "metadata": {},
   "source": [
    "La transición energética hasta la producción de energía desde fuentes renovables es un factor clave para aliviar la crisis energética y la aceleración en el cambio climático. Si bien el uso de las fuentes renovables ya se ha masificado, es común que algunas, como la energía eólica o solar, presenten problemas en su gestión y suministro debido a la naturaleza intermitente y fluctuante de sus fuentes. Es por ello que el desarrollo de tecnologías para almacenar esta energía se vuelve crucial para estabilizar la oferta y entregar un flujo de energía confiable a la matriz eléctrica.\n",
    "\n",
    "\n",
    "El uso de hidrógeno como vector energético se ha vuelto una gran alternativa para el almacenamiento de energía, y puede ser producido mediante electrólisis del agua utilizando fuentes renovables. La electrólisis del agua es un proceso en el cual se suministra corriente eléctrica a una celda electrolítica, que produce la separación del agua en hidrógeno y oxígeno gaseoso.  \n",
    "La electrólisis del agua puede ser realizada con diversos métodos, este documento se enfocará en la electrolisis en una celda con membrana de intercambio de protones (PEM). Los electrolizadores PEM pueden producir hidrógeno con alta pureza en rangos de temperatura de 70-90°C, se consume entre 47 y 63 kWh/kg de hidrógeno y tiene una eficiencia del 67 al 82% (El-Shafie, 2023). \n",
    "\n",
    "\n",
    "Si bien la tecnología de electrolizadores PEM está bien desarrollada, uno de sus problemas es que requiere agua ultrapura para funcionar con una alta eficiencia. Se ha encontrado que usar agua impura puede aumentar el voltaje de la celda en un 67% con respecto al uso de agua purificada, lo que aumenta en gran medida el requerimiento energético para producir el hidrógeno (El-Shafie, 2023).\n",
    "\n",
    "\n",
    "Actualmente el desarrollo de proyectos con electrolizadores PEM va en aumento, por ejemplo, Linde construirá dos plantas de 24 MW en Noruega y Alemania utilizando esta tecnología, que representan una capacidad individual de 10.000 kg/día de hidrógeno (Linde, 2024). Sin embargo, aún uno de los mayores desafíos de esta tecnología es reducir los costos de fabricación, debido a que sus componentes requieren el uso de metales nobles (Shiva Kumar & Himabindu, 2019).\n",
    "\n",
    "\n",
    "En este documento, se modelará el voltaje necesario para operar un electrolizador de agua considerando variaciones de temperatura en el sistema.\n"
   ]
  },
  {
   "cell_type": "markdown",
   "id": "cc829f68",
   "metadata": {},
   "source": [
    "# Principio de Operación"
   ]
  },
  {
   "cell_type": "markdown",
   "id": "960cd302",
   "metadata": {},
   "source": [
    "Los electrolizadores PEM, el agua es suministrada en el ánodo donde se producen protones, hidrógeno y electrones, estos protones son transportados a través de una membrana de intercambio de protones (Proton Exhange Membrane) hasta el cátodo, donde se produce hidrógeno. Los electrones son retirados desde el ánodo a través del circuito externo."
   ]
  },
  {
   "cell_type": "markdown",
   "id": "92651ab3",
   "metadata": {},
   "source": [
    "![Obtenido de (Shiva Kumar & Himabindu, 2019).](imagen_celda.jpg)"
   ]
  },
  {
   "cell_type": "markdown",
   "id": "dbd425c6",
   "metadata": {},
   "source": [
    "Diagrama de electrólisis PEM, Obtenido de Shiva Kumar & Himabindu, 2019."
   ]
  },
  {
   "cell_type": "markdown",
   "id": "e1096e7a",
   "metadata": {},
   "source": [
    "En este caso, es importante mencionar que el voltaje de la celda completa se basa principalmente en tres contribuciones, (i) El potencial de celda de la reacción, que está formada por la reacción en el cátodo y en el ánodo, (ii) El potencial de activación, que consiste en el voltaje necesario para que ocurra la reacción y se sobrepasen las barreras asociadas a la cinética de la reacción, y por último, (iii) La resistencia electrolítica que entrega la membrana al transporte de protones a través de los electrodos."
   ]
  },
  {
   "cell_type": "markdown",
   "id": "fffe7199",
   "metadata": {},
   "source": [
    "# Ecuaciones usadas en el modelo"
   ]
  },
  {
   "cell_type": "markdown",
   "id": "e1fc93b2",
   "metadata": {},
   "source": [
    "El voltaje necesario para la electrólisis del agua está descrito por la siguiente ecuación\n",
    "\n",
    "$$ V=E_{cell}+V_{act,c}+V_{act,a}+V_{ohm}+ V_{conc,c}+V_{conc,a}$$\n",
    "\n",
    "Es decir, el voltaje necesario para la electrólisis está definido por el potencial de celda de circuito abierto más las pérdidas de voltaje debido al sobrepotencial en el cátodo y anodo, más las pérdidas de voltaje asociadas a la resistencia ohmnica del electrolito. En este caso, se despreciará los términos asociados a la transferencia de masa en el cátodo y anodo, debido a que estas dejan de ser despreciables a altas intensidades de corriente (mayores que 2 $A/cm^2$) (Falcão & Pinto, 2020)\n",
    "\n",
    "$$ V=E_{cell}+V_{act,c}+V_{act,a}+V_{ohm}$$"
   ]
  },
  {
   "cell_type": "markdown",
   "id": "55b20700",
   "metadata": {},
   "source": [
    "En este caso, el potencial de celda de circuito abierto está dado por el potencial de media celda de las reacciones de oxidación y reducción que ocurren durante la electrólisis.\n",
    "\n",
    "$$ U_{cell}=1.229 V$$ \n",
    "\n",
    "Si queremos incluir los efectos de la temperatura y presión:\n",
    "\n",
    "$$ E_{cell}=U_{cell}+\\frac{RT}{2F}ln(\\frac{P_{H^2}*p_{O_2}^2}{P_{H^2}°})$$\n",
    "\n",
    "Debido a que en este caso trabajaremos con temperatura variable, Kaya & Demir (2017) encontró una relación empírica con la temperatura que elimina la dependencia con las presiones parciales: \n",
    "\n",
    "$$E_{cell}=1.5184-1.5421*10^{-3}T+9.523*10^{-5}T*ln(T)+9.84*10^{-8}T^2$$\n"
   ]
  },
  {
   "cell_type": "markdown",
   "id": "e4ce68c1",
   "metadata": {},
   "source": [
    "Ahora el sobrepotencial del cátodo y ánodo están dados por la siguiente ecuación:\n",
    "\n",
    "$$ V_{act}=\\frac{RT}{2\\alpha_a F}arcsinh(\\frac{i}{2 i_{0,a}})+\\frac{RT}{2\\alpha_c F}arcsinh(\\frac{i}{2 i_{0,c}})$$\n",
    "\n",
    "En este caso, se consideró que la temperatura del ánodo y cátodo son iguales, los $\\alpha$ fueron obtenidos a partir de Hwang et al., (2009), con $\\alpha_a=0.5$, $\\alpha_c=0.25$, $ i_{0,a}=0.5 \\cdot 10^{-3} \\text{A}/\\text{cm}^2$ y  $i_{0,c}=0.4 \\cdot 10^{-6} \\text{A}/\\text{cm}^2$.\n",
    "\n",
    "La densidad de corriente de intercambio $i_0$ es dependiente de la temperatura, por lo que se puede escribir la siguiente relación con respecto a un estado de referencia:\n",
    "\n",
    "$$ i_0 = i_{0,ref} exp[\\frac{-E_{act}}{R} (\\frac{1}{T}-\\frac{1}{T_{ref}})]  $$\n",
    "\n",
    "Donde $E_{act}$ es la energía de activación de la reacción, siendo de $53990.06$ J/mol para el ánodo (García-Valverde et al., 2012)."
   ]
  },
  {
   "cell_type": "markdown",
   "id": "e9f6e71e",
   "metadata": {},
   "source": [
    "Para calcular las pérdidas de voltaje ohmicas, que en este caso el electrolito es una membrana polimérica, se utiliza la siguiente fórmula:\n",
    "\n",
    "$$ V_{ohm}=\\frac{\\delta }{\\sigma} i $$\n",
    "    \n",
    "donde $\\delta$ es el grosor de la membrana polimérica, $i$ es la densidad de corriente y $\\sigma$ es la conductividad de la membrana, que depende de la temperatura (García-Valverde et al., 2012):\n",
    "\n",
    "$$ \\sigma=(0.005139\\lambda-0.00326)\\cdot \\exp(1268(\\frac{1}{303}-\\frac{1}{T}))$$\n",
    "\n",
    "Siendo $\\lambda$ el nivel de hidratación de la membrana, que va desde 14 a 22."
   ]
  },
  {
   "cell_type": "code",
   "execution_count": 1,
   "id": "bd756d97",
   "metadata": {},
   "outputs": [],
   "source": [
    "# Cálculos numéricos\n",
    "import numpy as np\n",
    "\n",
    "# Gráficos\n",
    "import matplotlib.pyplot as plt\n",
    "\n",
    "# Mapas de colores\n",
    "from matplotlib import cm\n",
    "\n",
    "#Widgets\n",
    "import ipywidgets as widgets\n",
    "from IPython.display import display"
   ]
  },
  {
   "cell_type": "code",
   "execution_count": 2,
   "id": "686fb141",
   "metadata": {},
   "outputs": [],
   "source": [
    "i_0ref_a=0.5e-3 #A/cm2\n",
    "i_0ref_c=0.4e-6 #A/cm2\n",
    "alpha_a=0.5\n",
    "alpha_c=0.25\n",
    "T_ref=273.15+25 #K\n",
    "R=8.314 #J/mol K\n",
    "F=96485 #C/Eq\n",
    "Ea=53990.06 #J/mol\n",
    "lamb=22 #coeficiente hidratacion membrana\n",
    "Area=20 #cm^2\n",
    "delta=0.05 #grosor membrana mm\n"
   ]
  },
  {
   "cell_type": "code",
   "execution_count": 22,
   "id": "8b15baf8",
   "metadata": {},
   "outputs": [
    {
     "data": {
      "application/vnd.jupyter.widget-view+json": {
       "model_id": "4052509818b04259bd87d8a5722bf607",
       "version_major": 2,
       "version_minor": 0
      },
      "text/plain": [
       "interactive(children=(FloatSlider(value=318.155, description='T', max=373.15, min=273.155, step=5.0), Output()…"
      ]
     },
     "metadata": {},
     "output_type": "display_data"
    }
   ],
   "source": [
    "import numpy as np\n",
    "import matplotlib.pyplot as plt\n",
    "\n",
    "def voltaje_corriente(T):\n",
    "\n",
    "    i = np.linspace(0, 1, 100) #A/cm2\n",
    "    \n",
    "    i_0_a=i_0ref_a*np.exp(-Ea/R*(1/T-1/T_ref))\n",
    "    i_0_c=i_0ref_c*np.exp(-Ea/R*(1/T-1/T_ref))\n",
    "    V_act=R*T/(2*alpha_a*F)*np.arcsinh(i/(2*i_0_a))+R*T/(2*alpha_c*F)*np.arcsinh(i/(2*i_0_c))\n",
    "    E_cell=1.5184-1.5421e-3*(T)+9.523e-5*(T)*np.log(T)+9.84e-8*T**2\n",
    "    sigma=(0.005139*lamb-0.00326)*np.exp(1268*(1/303-1/T))\n",
    "    V_ohm=delta/sigma*i\n",
    "    V=E_cell+V_act+V_ohm\n",
    "    \n",
    "    \n",
    "\n",
    "    \n",
    "    plt.plot(i, V)\n",
    "    plt.ylim(0,3.1)\n",
    "    plt.title(f\"Voltaje vs intensidad de corriente con Temperatura {T} K\")\n",
    "    plt.xlabel(\"Intensidad de corriente (A/cm2)\")\n",
    "    plt.ylabel(\"Volateje de celda (V)\")\n",
    "    plt.show()\n",
    "\n",
    "   \n",
    "    \n",
    "    # Datos a graficar en Pie Plot\n",
    "    labels = ['Potencial de celda Circuito Abierto', 'Voltaje Activación', 'Pérdidas ohmicas']\n",
    "    sizes = [E_cell, V_act[50], V_ohm[50]]  # Proportions for each category\n",
    "    colors = ['red', 'yellow', 'green']  # Optional colors\n",
    "\n",
    "    # Crear el pie plot\n",
    "    plt.pie(sizes, labels=labels, colors=colors, autopct='%1.1f%%', startangle=140)\n",
    "\n",
    "    # Gráfico circular\n",
    "    plt.axis('equal')\n",
    "\n",
    "    # Show el gráfico\n",
    "    plt.title(\"Distribución voltaje a 0.5 $A/cm^2$\")\n",
    "    plt.show()\n",
    "\n",
    "# Slider para cambiar temperatura\n",
    "interactive_plot = widgets.interactive(voltaje_corriente, T=(273.155, 373.15, 5))\n",
    "display(interactive_plot)\n"
   ]
  },
  {
   "cell_type": "markdown",
   "id": "6fa79936",
   "metadata": {},
   "source": [
    "\n",
    "Podemos notar que a medida que aumenta la temperatura, disminuyen las pérdidas de voltaje asociados a la resistencia ohmica, de activación, y el potencial de circuito abierto. Sin embargo, el porcentaje de potencial abierto no disminuye a la misma tasa, por lo que comienza a tomar una mayor proporción del voltaje total del electrolizador."
   ]
  },
  {
   "cell_type": "markdown",
   "id": "ac837285",
   "metadata": {},
   "source": [
    "# Eficiencia energética"
   ]
  },
  {
   "cell_type": "markdown",
   "id": "a11692be",
   "metadata": {},
   "source": [
    "En este caso, la eficiencia energética del electrolizador se medirá como la cantidad de energía que debe ser suministrada al electrolizador con respecto al caso ideal, siendo este último el potencial de celda abierto.\n",
    "$$ EE = \\frac{\\text{Voltaje teórico}}{\\text{Voltaje actual}} \\cdot 100\\text{%}$$"
   ]
  },
  {
   "cell_type": "code",
   "execution_count": 27,
   "id": "2449b9f3",
   "metadata": {},
   "outputs": [
    {
     "data": {
      "application/vnd.jupyter.widget-view+json": {
       "model_id": "f52b8e4c8fd14900b71f93d5b06549be",
       "version_major": 2,
       "version_minor": 0
      },
      "text/plain": [
       "interactive(children=(FloatSlider(value=318.155, description='T', max=373.15, min=273.155, step=5.0), Output()…"
      ]
     },
     "metadata": {},
     "output_type": "display_data"
    }
   ],
   "source": [
    "import numpy as np\n",
    "import matplotlib.pyplot as plt\n",
    "\n",
    "def eficienciaenergetica(T):\n",
    "\n",
    "    i = np.linspace(0, 1, 100) #A/cm2\n",
    "    \n",
    "    i_0_a=i_0ref_a*np.exp(-Ea/R*(1/T-1/T_ref))\n",
    "    i_0_c=i_0ref_c*np.exp(-Ea/R*(1/T-1/T_ref))\n",
    "    V_act=R*T/(2*alpha_a*F)*np.arcsinh(i/(2*i_0_a))+R*T/(2*alpha_c*F)*np.arcsinh(i/(2*i_0_c))\n",
    "    E_cell=1.5184-1.5421e-3*(T)+9.523e-5*(T)*np.log(T)+9.84e-8*T**2\n",
    "    sigma=(0.005139*lamb-0.00326)*np.exp(1268*(1/303-1/T))\n",
    "    V_ohm=delta/sigma*i\n",
    "    V=E_cell+V_act+V_ohm\n",
    "    \n",
    "    EE=E_cell/V*100\n",
    "\n",
    "    plt.plot(i, EE)\n",
    "    plt.ylim(0,103)\n",
    "    plt.title(f\"Eficiencia energética vs intensidad de corriente con Temperatura {T} K\")\n",
    "    plt.xlabel(\"Intensidad de corriente (A/cm2)\")\n",
    "    plt.ylabel(\"Eficiencia energética %\")\n",
    "    plt.show()\n",
    "   \n",
    "# Slider para cambiar temperatura\n",
    "interactive_plot = widgets.interactive(eficienciaenergetica, T=(273.155, 373.15, 5))\n",
    "display(interactive_plot)"
   ]
  },
  {
   "cell_type": "markdown",
   "id": "c973c19e",
   "metadata": {},
   "source": [
    "# Conclusiones"
   ]
  },
  {
   "cell_type": "markdown",
   "id": "2936dc06",
   "metadata": {},
   "source": [
    "Mediante la simulación del voltaje necesario para operar un electrolizador PEM, podemos notar que los cambios en la temperatura tienen un efecto significante en el voltaje y la eficiencia del sistema. Una mayor temperatura tiene un efecto positivo, debido a que disminuye el voltaje y aumenta la eficiencia energética. Por ejemplo, a una temperatura de 90°C se puede llegar a un voltaje de 2.19 V a 1 A/cm2, mientras que a 40°C se requiere un voltaje de 2.52 V. Con respecto a la eficiencia energética, esta pasa de un 53.49 a un 48.09% de 90 a 40°C."
   ]
  },
  {
   "cell_type": "markdown",
   "id": "5c430595",
   "metadata": {},
   "source": [
    "Si bien existen diversas tecnologías para la producción de hidrógeno (por ejemplo, reformado al vapor de metano, gasificación de carbón, entre otros), la electrólisis del agua es una de las alternativas más prometedoras para la obtención de hidrógeno de alta pureza y con bajo impacto ambiental, siendo oxígeno el unico subproducto directo de la reacción. En este caso, el orígen de la energía será de gran relevancia para cuantificar el impacto ambiental del hidrógeno, puesto que la energía que se requiere para operar los electrolizadores representan un gran porcentaje de las emisiones. Adicionalmente, en países como Chile, la producción de hidrógeno verde permitirá a su vez la producción de amoniaco, compuesto ampliamente utilizado como fertilizante y carrier del hidrógeno."
   ]
  },
  {
   "cell_type": "markdown",
   "id": "15f91f17",
   "metadata": {},
   "source": [
    "Actualmente, la mayoría de los electrolizadores PEM utilizan metales preciosos como Pt/Pd para el cátodo y IrO2/RuO2 para el ánodo, lo que representa gran parte de los costos de producción de los equipos (aproximadamente el 36.7% del total). Estos metales son utilizados para prevenir reacciones indeseadas y para aumentar la eficiencia de los electródos. Por lo tanto, uno de los principales desafíos será disminuir los costos de producción manteniendo la eficiencia de estos mismos, lo que se podría lograr mediante el desarrollo de materiales catáliticos o mejores recubrimientos para los electródos. Al comparar con otros electrolizadores, algunos artículos mencionan que aumentar la vida útil de los PEM desde 5 a 10 años, les permitirá competir en costos con los electrolizadores alcalinos convencionales (Yang et al., 2023)."
   ]
  },
  {
   "cell_type": "markdown",
   "id": "97af37fa",
   "metadata": {},
   "source": [
    "Debido a las carácterísticas de los electrolizadores PEM, como menor volumen, alta pureza del hidrógeno y mayores niveles de seguridad durante la operación, esta tecnología tiene un gran potencial para ser utilizada a mayores escalas en el futuro. Uno de sus desafíos a nivel tecnológico será disminuir la necesidad de agua ultrapura para la reacción, puesto que la disponibilidad y los costos de esta misma suele ser un desafío en los proyectos actuales (En el caso de Chile, se podría ver en los proyectos instalados en la zona norte, que requieren desalinizadoras para su operación)."
   ]
  },
  {
   "cell_type": "markdown",
   "id": "db6b1ca9",
   "metadata": {},
   "source": [
    "Con respecto a las barreras sociales, los proyectos de producción de hidrógeno por lo general se ven beneficiados por las economías de escala, lo que lleva al cambio en el uso de suelo de grandes extensiones de terreno. Por ejemplo, en Chile, ha habido un amplio rechazo desde organizaciones sociales y ambientales en contra de un proyecto de amoniaco verde en Magallanes liderado por AustriaEnergy (Pizzoleo, 2024). En este caso, se menciona que el proyecto está a una escala que supera al territorio, ya que contempla un parque eólico con 194 aerogeneradores, una planta desalinizadora, un terminal marítimo, ademas de las plantas de proceso y las líneas de transporte de los productos, generando un gran impacto en el territorio. Para poder alinear a los actores será necesario un trabajo que no solo considere la reducción de emisiones a nivel global, sino tambien los impactos locales en el territorio donde se instalará cualquier tipo de proyecto a gran escala."
   ]
  },
  {
   "cell_type": "markdown",
   "id": "9670de3c",
   "metadata": {},
   "source": [
    "# Relación con Magister"
   ]
  },
  {
   "cell_type": "markdown",
   "id": "f5ca5910",
   "metadata": {},
   "source": [
    "Los modelos electroquímicos suelen tener problemas al modelar la transferencia de masa en la membrana, ya sea para celdas PEM o baterías de flujo redox. Estas últimas funcionan de la misma forma que un electrolizador durante el modo de carga, puesto que se está utilizando energía proveniente de otra fuente para que el sistema opere con una reacción no espontánea. \n",
    "\n",
    "Las celdas de combustible regenerativas de Hidrógeno-Vanadio poseen una membrana de intercambio de protones, que será descrita más adelante.\n"
   ]
  },
  {
   "cell_type": "markdown",
   "id": "5b1267de",
   "metadata": {},
   "source": [
    "Las suposiciones necesarias para formular un modelo de transporte de masa a través de un electrodo y una membrana polimérica son:\n",
    "\n",
    "    Sistema isotérmico\n",
    "    \n",
    "    Electrolito incompresible y con viscosidad constante\n",
    "    \n",
    "    Propiedades físicas y de transporte de masa y carga son isentrópicas y homogéneas\n",
    "    \n",
    "    Se desprecian cambios de concentración iónica, potencial iónico y electrónico, y presión en las coordenadas \"y\" y \"z\", solo el eje x es considerado para el modelo.\n",
    "    \n",
    "    La producción de gases (gas evolution), reacciones paralelas y autodescarga son despreciadas\n",
    "    \n",
    "    Condición de electroneutralidad en la interfase del colector y el electrodo.\n",
    "    \n",
    "    Flujo en el electrodo está principalmente dominado por gradiente de presión.\n",
    "    \n",
    "Adicionalmente, se consideran las siguientes suposiciones, que podrían ser modificadas:\n",
    "\n",
    "    Coeficientes de actividad son iguales a 1 para todas las especies\n",
    "    \n",
    "    Se utiliza solución diluida para modelar el transporte de especies en el cátodo y la membrana."
   ]
  },
  {
   "cell_type": "markdown",
   "id": "a54899fe",
   "metadata": {},
   "source": [
    "Partiendo por la ecuación de continuidad en el electrodo:\n",
    "\n",
    "$$ \\frac{\\partial \\rho}{\\partial t} + \\nabla (\\rho v)= S_{mass} $$\n",
    "    \n",
    "Considerando que la densidad es constante y que el término de fuente de masa es 0:\n",
    "\n",
    "  $$ \\nabla v=0$$\n",
    "  \n",
    "Ahora considerando que el flujo dentro del electrodo está dominado por el gradiente de presión y que debe ser lineal:\n",
    "\n",
    "$$v= -\\frac{\\kappa_p^{ca}}{\\mu} \\nabla p$$\n",
    "\n",
    "Siendo $\\kappa_p$ la permeabilidad hidráúlica\n",
    "\n",
    "Ahora por conservación de momentum:\n",
    "\n",
    " $$ \\frac{\\partial \\rho v}{\\partial t}+\\nabla(\\rho v v)=\\nabla(\\mu \\nabla v) + S_{mom}$$\n",
    " \n",
    "Para el electrodo, se utiliza ley de Darcy, mientras que para la membrana se utiliza ecuación de Schlogl, esta última, por lo tanto, considera la convección electro osmótica debido a gradientes de potencial dentro de la membrana.\n",
    "\n",
    "$$ S_{mom}^{ca}=-\\nabla p -\\frac{\\mu}{\\kappa_p^{ca}} v$$\n",
    "$$ S_{mom}^{m}=-\\nabla p -\\frac{\\mu}{\\kappa_p^{ca}} v -\\frac{\\kappa_{\\phi}^m}{\\kappa_p^{m}}F(-z_f c_f)(\\nabla \\phi_e +\\nabla \\phi_{diff}) $$\n",
    "\n",
    "Siendo $\\kappa_{\\phi}$ la permeabilidad electro cinética.\n",
    "\n",
    "Ahora con el transporte de iones, se utiliza la ecuación de conservación de especies, y se asume solución diluida:\n",
    "$$\\frac{\\partial \\epsilon c_k}{\\partial t}+\\nabla\\cdot N_k= S_k$$\n",
    "Si se deseara eliminar este supuesto, y llevar a dilución concentrada, debiese ser considerado un termino por difusión, que debe contener el gradiente por concentración y potencial eléctrico:\n",
    "$$\\frac{\\partial \\epsilon c_k}{\\partial t}+\\nabla\\cdot N_k=\\nabla (D_k c_k+ \\frac{z_i F}{RT}c_i\\nabla\\phi_e)+ S_k$$\n",
    "El flux molar de cada especie k es:\n",
    "$$N_k = -D_k \\nabla C_k - z_k u_k c_k F \\nabla \\phi_e + c_k \\mathbf{v}$$\n",
    "\n",
    "Ahora las reacciones son:\n",
    "$$  \\text{VO}^{2+} + \\text{H}_2\\text{O} \\leftrightarrow \\text{VO}_2^+ + 2\\text{H}^+ + e^-\n",
    "$$\n",
    "$$\\text{H}_2  \\leftrightarrow  2\\text{H}^+ + 2e^- $$\n",
    "\n",
    "Por lo que cada término de generación en la ecuación de conservación de especies tiene una relación estequiométrica con estas reacciones."
   ]
  },
  {
   "cell_type": "markdown",
   "id": "3c14bafa",
   "metadata": {},
   "source": [
    "Uno de los principales desafíos en el desarrollo de este modelo será eliminar ciertos supuestos utilizados, que fueron mencionados más adelantes, Pino Muñoz (2019) menciona que el supuesto de coeficientes de actividad unitarios y solución diluida son suposiciones muy fuertes que podrían generar desviaciones irreconciliables. Adicionalmente, se menciona que con el modelo anterior no fue posible obtener una predicción aceptable en el perfil de concentración de la interfase electrodo-membrana, por lo que se plantea la opción de utilizar la ecuación de Donnan-Nernst-Planck en reemplazo de la Poisson-Nernst-Planck."
   ]
  },
  {
   "cell_type": "markdown",
   "id": "27c904de",
   "metadata": {},
   "source": [
    "# Bibliografía"
   ]
  },
  {
   "cell_type": "markdown",
   "id": "28768e0d",
   "metadata": {},
   "source": [
    "Falcão, D. S., & Pinto, A. M. F. R. (2020). A review on PEM electrolyzer modelling: Guidelines for beginners. In Journal of Cleaner Production (Vol. 261). Elsevier Ltd. https://doi.org/10.1016/j.jclepro.2020.121184\n",
    "\n",
    "García-Valverde, R., Espinosa, N., & Urbina, A. (2012). Simple PEM water electrolyser model and experimental validation. International Journal of Hydrogen Energy, 37(2), 1927–1938. https://doi.org/10.1016/J.IJHYDENE.2011.09.027\n",
    "\n",
    "Hwang, J. J., Lai, L. K., Wu, W., & Chang, W. R. (2009). Dynamic modeling of a photovoltaic hydrogen fuel cell hybrid system. International Journal of Hydrogen Energy, 34(23), 9531–9542. https://doi.org/10.1016/j.ijhydene.2009.09.100\n",
    "\n",
    "Kaya, M. F., & Demir, N. (2017). Numerical Investigation of PEM Water Electrolysis Performance for Different Oxygen Evolution Electrocatalysts. Fuel Cells, 17(1), 37–47. https://doi.org/10.1002/fuce.201600216\n",
    "\n",
    "El-Shafie, M. (2023). Hydrogen production by water electrolysis technologies: A review. Results in Engineering, 20, 101426. https://doi.org/10.1016/J.RINENG.2023.101426\n",
    "\n",
    "Linde. (2024). Electrolysis for Green H2 Production. Electrolysis for Green Hydrogen Production. https://www.linde.com/clean-energy/our-h2-technology/electrolysis-for-green-hydrogen-production\n",
    "\n",
    "Pizzoleo, J. (2024, July 29). Más de 30 organizaciones rechazan megaproyecto de amoníaco verde en Magallanes. https://www.reporteminero.cl/noticia/noticias/2024/07/organizaciones-rechazan-megaproyecto-amoniaco-verde-magallanes#:~:text=33%20organizaciones%20expresaron%20su%20rechazo%20a%20este%20megaproyecto,derivado%20del%20hidr%C3%B3geno%20verde%2C%20para%20su%20posterior%20exportaci%C3%B3n.\n",
    "\n",
    "Shiva Kumar, S., & Himabindu, V. (2019). Hydrogen production by PEM water electrolysis – A review. In Materials Science for Energy Technologies (Vol. 2, Issue 3, pp. 442–454). KeAi Communications Co. https://doi.org/10.1016/j.mset.2019.03.002\n",
    "\n",
    "Yang, B., Zhang, R., Shao, Z., & Zhang, C. (2023). The economic analysis for hydrogen production cost towards electrolyzer technologies: Current and future competitiveness. International Journal of Hydrogen Energy, 48(37), 13767–13779. https://doi.org/10.1016/j.ijhydene.2022.12.204\n",
    "\n",
    "Pino Muñoz, C. A. (2019). MATHEMATICAL MODELLING OF VANADIUM-BASED REDOX FLOW BATTERIES.\n",
    "\n"
   ]
  },
  {
   "cell_type": "code",
   "execution_count": null,
   "id": "c793303b",
   "metadata": {},
   "outputs": [],
   "source": []
  }
 ],
 "metadata": {
  "kernelspec": {
   "display_name": "Python 3 (ipykernel)",
   "language": "python",
   "name": "python3"
  },
  "language_info": {
   "codemirror_mode": {
    "name": "ipython",
    "version": 3
   },
   "file_extension": ".py",
   "mimetype": "text/x-python",
   "name": "python",
   "nbconvert_exporter": "python",
   "pygments_lexer": "ipython3",
   "version": "3.9.12"
  }
 },
 "nbformat": 4,
 "nbformat_minor": 5
}
